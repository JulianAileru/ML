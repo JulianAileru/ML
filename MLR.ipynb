{
 "cells": [
  {
   "cell_type": "code",
   "execution_count": 12,
   "metadata": {},
   "outputs": [],
   "source": [
    "import pandas as pd \n",
    "import numpy as np \n",
    "from sklearn.datasets import load_diabetes\n",
    "import nbimporter\n",
    "from ML_classes import LinearRegression\n",
    "from sklearn.linear_model import LinearRegression as LR\n",
    "import warnings \n",
    "\n",
    "\n",
    "warnings.filterwarnings(action=\"ignore\")"
   ]
  },
  {
   "cell_type": "code",
   "execution_count": 4,
   "metadata": {},
   "outputs": [
    {
     "data": {
      "text/html": [
       "<div>\n",
       "<style scoped>\n",
       "    .dataframe tbody tr th:only-of-type {\n",
       "        vertical-align: middle;\n",
       "    }\n",
       "\n",
       "    .dataframe tbody tr th {\n",
       "        vertical-align: top;\n",
       "    }\n",
       "\n",
       "    .dataframe thead th {\n",
       "        text-align: right;\n",
       "    }\n",
       "</style>\n",
       "<table border=\"1\" class=\"dataframe\">\n",
       "  <thead>\n",
       "    <tr style=\"text-align: right;\">\n",
       "      <th></th>\n",
       "      <th>age</th>\n",
       "      <th>sex</th>\n",
       "      <th>bmi</th>\n",
       "      <th>bp</th>\n",
       "      <th>s1</th>\n",
       "      <th>s2</th>\n",
       "      <th>s3</th>\n",
       "      <th>s4</th>\n",
       "      <th>s5</th>\n",
       "      <th>s6</th>\n",
       "      <th>target</th>\n",
       "    </tr>\n",
       "  </thead>\n",
       "  <tbody>\n",
       "    <tr>\n",
       "      <th>0</th>\n",
       "      <td>0.038076</td>\n",
       "      <td>0.050680</td>\n",
       "      <td>0.061696</td>\n",
       "      <td>0.021872</td>\n",
       "      <td>-0.044223</td>\n",
       "      <td>-0.034821</td>\n",
       "      <td>-0.043401</td>\n",
       "      <td>-0.002592</td>\n",
       "      <td>0.019907</td>\n",
       "      <td>-0.017646</td>\n",
       "      <td>151.0</td>\n",
       "    </tr>\n",
       "    <tr>\n",
       "      <th>1</th>\n",
       "      <td>-0.001882</td>\n",
       "      <td>-0.044642</td>\n",
       "      <td>-0.051474</td>\n",
       "      <td>-0.026328</td>\n",
       "      <td>-0.008449</td>\n",
       "      <td>-0.019163</td>\n",
       "      <td>0.074412</td>\n",
       "      <td>-0.039493</td>\n",
       "      <td>-0.068332</td>\n",
       "      <td>-0.092204</td>\n",
       "      <td>75.0</td>\n",
       "    </tr>\n",
       "    <tr>\n",
       "      <th>2</th>\n",
       "      <td>0.085299</td>\n",
       "      <td>0.050680</td>\n",
       "      <td>0.044451</td>\n",
       "      <td>-0.005670</td>\n",
       "      <td>-0.045599</td>\n",
       "      <td>-0.034194</td>\n",
       "      <td>-0.032356</td>\n",
       "      <td>-0.002592</td>\n",
       "      <td>0.002861</td>\n",
       "      <td>-0.025930</td>\n",
       "      <td>141.0</td>\n",
       "    </tr>\n",
       "    <tr>\n",
       "      <th>3</th>\n",
       "      <td>-0.089063</td>\n",
       "      <td>-0.044642</td>\n",
       "      <td>-0.011595</td>\n",
       "      <td>-0.036656</td>\n",
       "      <td>0.012191</td>\n",
       "      <td>0.024991</td>\n",
       "      <td>-0.036038</td>\n",
       "      <td>0.034309</td>\n",
       "      <td>0.022688</td>\n",
       "      <td>-0.009362</td>\n",
       "      <td>206.0</td>\n",
       "    </tr>\n",
       "    <tr>\n",
       "      <th>4</th>\n",
       "      <td>0.005383</td>\n",
       "      <td>-0.044642</td>\n",
       "      <td>-0.036385</td>\n",
       "      <td>0.021872</td>\n",
       "      <td>0.003935</td>\n",
       "      <td>0.015596</td>\n",
       "      <td>0.008142</td>\n",
       "      <td>-0.002592</td>\n",
       "      <td>-0.031988</td>\n",
       "      <td>-0.046641</td>\n",
       "      <td>135.0</td>\n",
       "    </tr>\n",
       "  </tbody>\n",
       "</table>\n",
       "</div>"
      ],
      "text/plain": [
       "        age       sex       bmi        bp        s1        s2        s3  \\\n",
       "0  0.038076  0.050680  0.061696  0.021872 -0.044223 -0.034821 -0.043401   \n",
       "1 -0.001882 -0.044642 -0.051474 -0.026328 -0.008449 -0.019163  0.074412   \n",
       "2  0.085299  0.050680  0.044451 -0.005670 -0.045599 -0.034194 -0.032356   \n",
       "3 -0.089063 -0.044642 -0.011595 -0.036656  0.012191  0.024991 -0.036038   \n",
       "4  0.005383 -0.044642 -0.036385  0.021872  0.003935  0.015596  0.008142   \n",
       "\n",
       "         s4        s5        s6  target  \n",
       "0 -0.002592  0.019907 -0.017646   151.0  \n",
       "1 -0.039493 -0.068332 -0.092204    75.0  \n",
       "2 -0.002592  0.002861 -0.025930   141.0  \n",
       "3  0.034309  0.022688 -0.009362   206.0  \n",
       "4 -0.002592 -0.031988 -0.046641   135.0  "
      ]
     },
     "execution_count": 4,
     "metadata": {},
     "output_type": "execute_result"
    }
   ],
   "source": [
    "diabetes_df = load_diabetes(as_frame=True)\n",
    "diabetes = diabetes_df.data\n",
    "diabetes['target'] = diabetes_df.target\n",
    "diabetes.head()"
   ]
  },
  {
   "cell_type": "markdown",
   "metadata": {},
   "source": [
    "### 1 Revise the python scripts you have written for simple linear regression for performing multiple linear regression (MLR)."
   ]
  },
  {
   "cell_type": "code",
   "execution_count": 5,
   "metadata": {},
   "outputs": [],
   "source": [
    "class MLR(LinearRegression):\n",
    "    def __init__(self,data,bias=1,target=True,alpha=0.01): \n",
    "        self.alpha = alpha\n",
    "        self.bias = bias \n",
    "        self.target = target \n",
    "        if target:\n",
    "            target_vector = data[\"target\"]\n",
    "            data = data.drop(columns=\"target\")\n",
    "        self.data = data\n",
    "        #initalize theta_vector Tx \n",
    "        theta_vector = np.zeros_like(len(data.columns))\n",
    "        #add bias term into theta vector\n",
    "        self.theta_vector = np.zeros(self.data.shape[1] + 1)\n",
    "        self.target_vector = target_vector\n",
    "    def linear_combination(self,index):\n",
    "        x_features = self.data.iloc[index,:]\n",
    "        x_features = np.insert(x_features,0,self.bias)\n",
    "        return np.dot(self.theta_vector,x_features)\n",
    "    def get_features(self,index):\n",
    "        x_features = self.data.iloc[index,:]\n",
    "        x_features = np.insert(x_features,0,self.bias)\n",
    "        return x_features \n",
    "    def J(self):\n",
    "        cost = 0\n",
    "        for index,value in self.data.iterrows():\n",
    "            Tx = self.linear_combination(index)\n",
    "            cost += (Tx - self.target_vector[index])**2\n",
    "        return (1/(2*len(self.target_vector)) * cost)\n",
    "    def update_T(self): #calculate partial derivatives with respect to each theta\n",
    "        dJtJ = np.zeros_like(self.theta_vector)\n",
    "        for i in range(len(self.target_vector)):\n",
    "            error = self.linear_combination(i) - self.target_vector[i]\n",
    "            dJtJ += error * self.get_features(index=i)\n",
    "            #update theta vector \n",
    "        self.theta_vector -= (self.alpha/(len(self.data))*dJtJ)\n",
    "    def iterations(self, n=100):\n",
    "        # Perform gradient descent for n iterations\n",
    "        cost_dict = {}\n",
    "        for iteration in range(1, n + 1):\n",
    "            self.update_T()\n",
    "            cost = self.J()\n",
    "            cost_dict[f'{cost}_{iteration}'] = self.theta_vector.copy()\n",
    "        return cost_dict\n",
    "    def stopping_criteria(self,dJgT=True,threshold=10,max_iterations=1000):\n",
    "        cost_dict = {}\n",
    "        deltaJ = 0\n",
    "        iteration = 0 \n",
    "        while dJgT and (iteration < max_iterations):\n",
    "            self.update_T()\n",
    "            cost = self.J()\n",
    "            cost_dict[cost] = self.theta_vector.copy()\n",
    "            if len(cost_dict) > 1:\n",
    "                cost_list = list(cost_dict)\n",
    "                deltaJ = abs(cost_list[-1] - cost_list[-2])\n",
    "                if deltaJ < threshold:\n",
    "                    dJgT = False\n",
    "            iteration += 1\n",
    "        print(f'iteration_n:{iteration}')\n",
    "        min_cost = min(cost_dict)\n",
    "        print(min_cost)\n",
    "        return cost_dict[min_cost]\n",
    "\n",
    "\n",
    "\n",
    "    \n",
    "\n",
    "        "
   ]
  },
  {
   "cell_type": "markdown",
   "metadata": {},
   "source": [
    "### 2 Perform MLR on the diabetes dataset using your MLR scripts, predict the target (the last column named target), and compute the R2 value between the given target and your predicted target value."
   ]
  },
  {
   "cell_type": "code",
   "execution_count": 6,
   "metadata": {},
   "outputs": [],
   "source": [
    "diabetes_norm = MLR.normalization(diabetes)\n",
    "x = MLR(data=diabetes_norm,bias=1,alpha=0.01)\n",
    "y_bar = np.mean(diabetes_norm[\"target\"])"
   ]
  },
  {
   "cell_type": "code",
   "execution_count": 7,
   "metadata": {},
   "outputs": [
    {
     "name": "stdout",
     "output_type": "stream",
     "text": [
      "iteration_n:1000\n",
      "0.24272933145109427\n"
     ]
    }
   ],
   "source": [
    "trained_parameters = x.stopping_criteria(threshold=.000000000001)"
   ]
  },
  {
   "cell_type": "markdown",
   "metadata": {},
   "source": [
    "### 3 Perform MLR on the diabetes dataset using sklearn, predict the target, and compute the R2 value between the given target and your predicted target value that sklearn has generated."
   ]
  },
  {
   "cell_type": "code",
   "execution_count": 9,
   "metadata": {},
   "outputs": [],
   "source": [
    "bias = trained_parameters[0]\n",
    "trained_parameters = trained_parameters[1:]\n",
    "\n",
    "SSE = 0\n",
    "SST = 0 \n",
    "\n",
    "for index,values in diabetes.iterrows():\n",
    "    y_est = (np.dot(values[:-1],trained_parameters) + bias)\n",
    "    y_i = values[-1]\n",
    "    SSE += (y_i - y_est)**2\n",
    "    SST += (y_i - y_bar)**2\n",
    "\n",
    "\n"
   ]
  },
  {
   "cell_type": "code",
   "execution_count": 10,
   "metadata": {},
   "outputs": [
    {
     "data": {
      "text/plain": [
       "0.5145413370978114"
      ]
     },
     "execution_count": 10,
     "metadata": {},
     "output_type": "execute_result"
    }
   ],
   "source": [
    "R_2 = 1 - SSE/SST\n",
    "R_2"
   ]
  },
  {
   "cell_type": "code",
   "execution_count": 13,
   "metadata": {},
   "outputs": [
    {
     "data": {
      "text/plain": [
       "0.5177484222203498"
      ]
     },
     "execution_count": 13,
     "metadata": {},
     "output_type": "execute_result"
    }
   ],
   "source": [
    "diabetes = load_diabetes()\n",
    "X = diabetes.data\n",
    "y = diabetes.target\n",
    "lm = LR()\n",
    "\n",
    "reg = lm.fit(X,y)\n",
    "\n",
    "reg.score(X,y)"
   ]
  },
  {
   "cell_type": "markdown",
   "metadata": {},
   "source": [
    "### 4 Compare the predicted target produced by your scripts with the predicted target produced by sklearn. Are they very similar or very different?\n",
    "- Scores are extremely similar "
   ]
  },
  {
   "cell_type": "code",
   "execution_count": 14,
   "metadata": {},
   "outputs": [
    {
     "name": "stdout",
     "output_type": "stream",
     "text": [
      "0.5145413370978114\n",
      "0.5177484222203498\n"
     ]
    }
   ],
   "source": [
    "print(R_2) #My coefficient of determination \n",
    "print(reg.score(X,y)) #sklearn's coefficient of determination "
   ]
  },
  {
   "cell_type": "code",
   "execution_count": null,
   "metadata": {},
   "outputs": [],
   "source": [
    "def initalize(data=None,n_features=None,bias=1,target=True):\n",
    "    if target:\n",
    "        target_vector = data[\"target\"]\n",
    "        data = data.drop(columns=\"target\")\n",
    "    #initalize theta_vector Tx\n",
    "    theta_vector = np.empty_like(data.iloc[1,:])\n",
    "    #add bias term into theta vector \n",
    "    theta_vector = np.insert(theta_vector,0,bias)\n",
    "\n",
    "    return theta_vector\n",
    "\n",
    "def linear_combination(data,index,theta,bias):\n",
    "    #return linear combination of theta_vector and features of x \n",
    "    x_features = data.drop(columns=\"target\").iloc[index,:]\n",
    "    x_features = np.insert(x_features,0,bias)\n",
    "    \n",
    "    return np.dot(theta,x_features)"
   ]
  }
 ],
 "metadata": {
  "kernelspec": {
   "display_name": "base",
   "language": "python",
   "name": "python3"
  },
  "language_info": {
   "codemirror_mode": {
    "name": "ipython",
    "version": 3
   },
   "file_extension": ".py",
   "mimetype": "text/x-python",
   "name": "python",
   "nbconvert_exporter": "python",
   "pygments_lexer": "ipython3",
   "version": "3.10.13"
  }
 },
 "nbformat": 4,
 "nbformat_minor": 2
}
